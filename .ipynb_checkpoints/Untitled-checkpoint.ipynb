{
 "cells": [
  {
   "cell_type": "code",
   "execution_count": 1,
   "metadata": {},
   "outputs": [],
   "source": [
    "import pandas as pd\n",
    "from bs4 import BeautifulSoup\n",
    "import requests\n",
    "import time\n",
    "import re"
   ]
  },
  {
   "cell_type": "code",
   "execution_count": 4,
   "metadata": {},
   "outputs": [
    {
     "data": {
      "text/plain": [
       "['name', 'God of War', 'tes']"
      ]
     },
     "execution_count": 4,
     "metadata": {},
     "output_type": "execute_result"
    }
   ],
   "source": [
    "names = [\"name\", \"God\", \"tes\"]\n",
    "for i in names:\n",
    "    if \"God\" == i:\n",
    "        names[names.index(i)] = \"God of War\"\n",
    "names"
   ]
  },
  {
   "cell_type": "code",
   "execution_count": 2,
   "metadata": {},
   "outputs": [],
   "source": [
    "url = \"https://en.wikipedia.org/wiki/List_of_Game_of_the_Year_awards\"\n",
    "page = requests.get(url)"
   ]
  },
  {
   "cell_type": "code",
   "execution_count": 8,
   "metadata": {},
   "outputs": [
    {
     "name": "stderr",
     "output_type": "stream",
     "text": [
      "c:\\users\\gabfp\\appdata\\local\\programs\\python\\python37-32\\lib\\site-packages\\IPython\\core\\interactiveshell.py:3058: DtypeWarning: Columns (15,30,58,60,63,64,65,66,67,68,71,72,73,74,75,76,77,78,79,80,81,82,83,84,85,86,87,88,89,90,92,93,94,95,96,97,98,99,100,101,102,103,104,105,106,107,108,109,110,111,112,113,114,115,116,117,118,119,120,121,122,123,124,125,126,127,128,129,130,131,132,133,134,135,136,137,138,139,141,142,143,144,145,146,147,148,149,150,151,152,153,154,156,157,158,159,160,161,162,163,164,165,166,167,168,169,170,171,172,173,175,176) have mixed types. Specify dtype option on import or set low_memory=False.\n",
      "  interactivity=interactivity, compiler=compiler, result=result)\n"
     ]
    },
    {
     "data": {
      "text/html": [
       "<div>\n",
       "<style scoped>\n",
       "    .dataframe tbody tr th:only-of-type {\n",
       "        vertical-align: middle;\n",
       "    }\n",
       "\n",
       "    .dataframe tbody tr th {\n",
       "        vertical-align: top;\n",
       "    }\n",
       "\n",
       "    .dataframe thead th {\n",
       "        text-align: right;\n",
       "    }\n",
       "</style>\n",
       "<table border=\"1\" class=\"dataframe\">\n",
       "  <thead>\n",
       "    <tr style=\"text-align: right;\">\n",
       "      <th></th>\n",
       "      <th>Developer(s)</th>\n",
       "      <th>Publisher(s)</th>\n",
       "      <th>Director(s)</th>\n",
       "      <th>Producer(s)</th>\n",
       "      <th>Designer(s)</th>\n",
       "      <th>Programmer(s)</th>\n",
       "      <th>Artist(s)</th>\n",
       "      <th>Writer(s)</th>\n",
       "      <th>Composer(s)</th>\n",
       "      <th>Engine</th>\n",
       "      <th>...</th>\n",
       "      <th>Controller input</th>\n",
       "      <th>Material(s) required</th>\n",
       "      <th>Synonym(s)</th>\n",
       "      <th>Final release</th>\n",
       "      <th>Theme music composer</th>\n",
       "      <th>Director</th>\n",
       "      <th>Producer</th>\n",
       "      <th>Writer</th>\n",
       "      <th>Media type</th>\n",
       "      <th>Slogan</th>\n",
       "    </tr>\n",
       "  </thead>\n",
       "  <tbody>\n",
       "    <tr>\n",
       "      <td>count</td>\n",
       "      <td>9119</td>\n",
       "      <td>10009</td>\n",
       "      <td>2421</td>\n",
       "      <td>2400</td>\n",
       "      <td>3131</td>\n",
       "      <td>1691</td>\n",
       "      <td>2248</td>\n",
       "      <td>1777</td>\n",
       "      <td>3773</td>\n",
       "      <td>2896</td>\n",
       "      <td>...</td>\n",
       "      <td>1</td>\n",
       "      <td>2</td>\n",
       "      <td>1</td>\n",
       "      <td>1</td>\n",
       "      <td>2</td>\n",
       "      <td>1</td>\n",
       "      <td>1</td>\n",
       "      <td>1</td>\n",
       "      <td>1</td>\n",
       "      <td>1</td>\n",
       "    </tr>\n",
       "    <tr>\n",
       "      <td>unique</td>\n",
       "      <td>4747</td>\n",
       "      <td>4035</td>\n",
       "      <td>1786</td>\n",
       "      <td>1799</td>\n",
       "      <td>2647</td>\n",
       "      <td>1479</td>\n",
       "      <td>1839</td>\n",
       "      <td>1460</td>\n",
       "      <td>2460</td>\n",
       "      <td>864</td>\n",
       "      <td>...</td>\n",
       "      <td>1</td>\n",
       "      <td>2</td>\n",
       "      <td>1</td>\n",
       "      <td>1</td>\n",
       "      <td>2</td>\n",
       "      <td>1</td>\n",
       "      <td>1</td>\n",
       "      <td>1</td>\n",
       "      <td>1</td>\n",
       "      <td>1</td>\n",
       "    </tr>\n",
       "    <tr>\n",
       "      <td>top</td>\n",
       "      <td>Konami</td>\n",
       "      <td>Nintendo</td>\n",
       "      <td>Ed Boon</td>\n",
       "      <td>Akihiro Hino</td>\n",
       "      <td>KCET</td>\n",
       "      <td>Steve Harding</td>\n",
       "      <td>Akira Toriyama</td>\n",
       "      <td>Masayoshi Yokoyama</td>\n",
       "      <td>Motoi Sakuraba</td>\n",
       "      <td>Unity</td>\n",
       "      <td>...</td>\n",
       "      <td>Motion detection, proprietary input devices</td>\n",
       "      <td>Companion app</td>\n",
       "      <td>Fabulous Beasts</td>\n",
       "      <td>[Data unknown/missing.]\\n   / May 9, 2018 (201...</td>\n",
       "      <td>Jeff Williams</td>\n",
       "      <td>Steven Soderbergh</td>\n",
       "      <td>Casey Silver</td>\n",
       "      <td>Ed Solomon</td>\n",
       "      <td>Construction set</td>\n",
       "      <td>Make, Play, Discover</td>\n",
       "    </tr>\n",
       "    <tr>\n",
       "      <td>freq</td>\n",
       "      <td>73</td>\n",
       "      <td>372</td>\n",
       "      <td>10</td>\n",
       "      <td>18</td>\n",
       "      <td>9</td>\n",
       "      <td>6</td>\n",
       "      <td>16</td>\n",
       "      <td>9</td>\n",
       "      <td>33</td>\n",
       "      <td>489</td>\n",
       "      <td>...</td>\n",
       "      <td>1</td>\n",
       "      <td>1</td>\n",
       "      <td>1</td>\n",
       "      <td>1</td>\n",
       "      <td>1</td>\n",
       "      <td>1</td>\n",
       "      <td>1</td>\n",
       "      <td>1</td>\n",
       "      <td>1</td>\n",
       "      <td>1</td>\n",
       "    </tr>\n",
       "  </tbody>\n",
       "</table>\n",
       "<p>4 rows × 174 columns</p>\n",
       "</div>"
      ],
      "text/plain": [
       "       Developer(s) Publisher(s) Director(s)   Producer(s) Designer(s)  \\\n",
       "count          9119        10009        2421          2400        3131   \n",
       "unique         4747         4035        1786          1799        2647   \n",
       "top          Konami     Nintendo     Ed Boon  Akihiro Hino        KCET   \n",
       "freq             73          372          10            18           9   \n",
       "\n",
       "        Programmer(s)       Artist(s)           Writer(s)     Composer(s)  \\\n",
       "count            1691            2248                1777            3773   \n",
       "unique           1479            1839                1460            2460   \n",
       "top     Steve Harding  Akira Toriyama  Masayoshi Yokoyama  Motoi Sakuraba   \n",
       "freq                6              16                   9              33   \n",
       "\n",
       "       Engine  ...                             Controller input  \\\n",
       "count    2896  ...                                            1   \n",
       "unique    864  ...                                            1   \n",
       "top     Unity  ...  Motion detection, proprietary input devices   \n",
       "freq      489  ...                                            1   \n",
       "\n",
       "       Material(s) required       Synonym(s)  \\\n",
       "count                     2                1   \n",
       "unique                    2                1   \n",
       "top           Companion app  Fabulous Beasts   \n",
       "freq                      1                1   \n",
       "\n",
       "                                            Final release  \\\n",
       "count                                                   1   \n",
       "unique                                                  1   \n",
       "top     [Data unknown/missing.]\\n   / May 9, 2018 (201...   \n",
       "freq                                                    1   \n",
       "\n",
       "       Theme music composer           Director      Producer      Writer  \\\n",
       "count                     2                  1             1           1   \n",
       "unique                    2                  1             1           1   \n",
       "top           Jeff Williams  Steven Soderbergh  Casey Silver  Ed Solomon   \n",
       "freq                      1                  1             1           1   \n",
       "\n",
       "              Media type                Slogan  \n",
       "count                  1                     1  \n",
       "unique                 1                     1  \n",
       "top     Construction set  Make, Play, Discover  \n",
       "freq                   1                     1  \n",
       "\n",
       "[4 rows x 174 columns]"
      ]
     },
     "execution_count": 8,
     "metadata": {},
     "output_type": "execute_result"
    }
   ],
   "source": [
    "pd.read_csv(\"info.csv\", sep=\"|\").drop([\"No. of seasons\", \"Release date(s)\", \"# of episodes\"], axis=1).describe()"
   ]
  },
  {
   "cell_type": "code",
   "execution_count": null,
   "metadata": {},
   "outputs": [],
   "source": []
  },
  {
   "cell_type": "code",
   "execution_count": 3,
   "metadata": {},
   "outputs": [],
   "source": [
    "soup = BeautifulSoup(page.content, 'html.parser')\n",
    "awards = soup.find(\"div\", class_=\"mw-parser-output\")"
   ]
  },
  {
   "cell_type": "code",
   "execution_count": 221,
   "metadata": {},
   "outputs": [
    {
     "name": "stdout",
     "output_type": "stream",
     "text": [
      "56\n"
     ]
    }
   ],
   "source": [
    "teste = []\n",
    "n = 0\n",
    "for i in list(awards.children)[9:]:\n",
    "    if \"h2\" in str(i) and \"Active\" in str(i):\n",
    "        ativo = 1\n",
    "    if \"h2\" in str(i) and \"Active\" not in str(i):\n",
    "        ativo = 0\n",
    "    elif \"h3\" in str(i):\n",
    "        name = \"\".join(re.findall(r'>([\\w\\d\\s()-.,\"!&.;]+)</',str(i)))\n",
    "        teste.append({\"Company\": f\"{name}\", \"Active\": f\"{ativo}\"})\n",
    "    else:\n",
    "        try:\n",
    "            temp = [x.find_all(\"td\") for x in i.find_all(\"tr\")][1:]\n",
    "            columns = [x.find_all(\"th\") for x in i.find_all(\"tr\")][0]\n",
    "            for x in temp:\n",
    "                print(re.findall(r'>([\\w\\d\\s()-.,\"!&.;]+)</',str(x)))\n",
    "                for y in re.findall(r'>([\\w\\d\\s()-.,\"!&.;]+)</',str(x)):\n",
    "                    print(y)\n",
    "                    teste[n][x[0][y]] = y\n",
    "                n+=1\n",
    "        except:\n",
    "            pass\n",
    "print(teste)"
   ]
  },
  {
   "cell_type": "code",
   "execution_count": null,
   "metadata": {},
   "outputs": [],
   "source": []
  }
 ],
 "metadata": {
  "kernelspec": {
   "display_name": "Python 3",
   "language": "python",
   "name": "python3"
  },
  "language_info": {
   "codemirror_mode": {
    "name": "ipython",
    "version": 3
   },
   "file_extension": ".py",
   "mimetype": "text/x-python",
   "name": "python",
   "nbconvert_exporter": "python",
   "pygments_lexer": "ipython3",
   "version": "3.7.4"
  }
 },
 "nbformat": 4,
 "nbformat_minor": 2
}
